{
 "cells": [
  {
   "cell_type": "markdown",
   "id": "6a6d3711-6917-4da6-b65a-d9997b693424",
   "metadata": {},
   "source": [
    "# DATASET FINAL PREPROCESSING"
   ]
  },
  {
   "cell_type": "code",
   "execution_count": 1,
   "id": "229512e4-d674-4efa-8e43-01543ec07088",
   "metadata": {},
   "outputs": [],
   "source": [
    "import pandas as pd\n",
    "\n",
    "data = pd.read_csv('training_data.csv')"
   ]
  },
  {
   "cell_type": "code",
   "execution_count": 13,
   "id": "b954879e-fe0e-4d07-b087-8aadffc26701",
   "metadata": {},
   "outputs": [
    {
     "name": "stdout",
     "output_type": "stream",
     "text": [
      "   itching  skin_rash  nodal_skin_eruptions  continuous_sneezing  shivering  \\\n",
      "0        1          1                     1                    0          0   \n",
      "1        0          1                     1                    0          0   \n",
      "2        1          0                     1                    0          0   \n",
      "3        1          1                     0                    0          0   \n",
      "4        1          1                     1                    0          0   \n",
      "\n",
      "   chills  joint_pain  stomach_pain  acidity  ulcers_on_tongue  ...  scurring  \\\n",
      "0       0           0             0        0                 0  ...         0   \n",
      "1       0           0             0        0                 0  ...         0   \n",
      "2       0           0             0        0                 0  ...         0   \n",
      "3       0           0             0        0                 0  ...         0   \n",
      "4       0           0             0        0                 0  ...         0   \n",
      "\n",
      "   skin_peeling  silver_like_dusting  small_dents_in_nails  \\\n",
      "0             0                    0                     0   \n",
      "1             0                    0                     0   \n",
      "2             0                    0                     0   \n",
      "3             0                    0                     0   \n",
      "4             0                    0                     0   \n",
      "\n",
      "   inflammatory_nails  blister  red_sore_around_nose  yellow_crust_ooze  \\\n",
      "0                   0        0                     0                  0   \n",
      "1                   0        0                     0                  0   \n",
      "2                   0        0                     0                  0   \n",
      "3                   0        0                     0                  0   \n",
      "4                   0        0                     0                  0   \n",
      "\n",
      "          prognosis  Unnamed: 133  \n",
      "0  Fungal infection           NaN  \n",
      "1  Fungal infection           NaN  \n",
      "2  Fungal infection           NaN  \n",
      "3  Fungal infection           NaN  \n",
      "4  Fungal infection           NaN  \n",
      "\n",
      "[5 rows x 134 columns]\n",
      "Index(['itching', 'skin_rash', 'nodal_skin_eruptions', 'continuous_sneezing',\n",
      "       'shivering', 'chills', 'joint_pain', 'stomach_pain', 'acidity',\n",
      "       'ulcers_on_tongue',\n",
      "       ...\n",
      "       'scurring', 'skin_peeling', 'silver_like_dusting',\n",
      "       'small_dents_in_nails', 'inflammatory_nails', 'blister',\n",
      "       'red_sore_around_nose', 'yellow_crust_ooze', 'prognosis',\n",
      "       'Unnamed: 133'],\n",
      "      dtype='object', length=134)\n"
     ]
    }
   ],
   "source": [
    "print(data.head())\n",
    "print(data.columns)"
   ]
  },
  {
   "cell_type": "code",
   "execution_count": 14,
   "id": "be59f3cb-3aba-453a-9c0f-4fdbbce8884a",
   "metadata": {},
   "outputs": [],
   "source": [
    "pediatric_attributes = [\n",
    "    'itching', 'skin_rash', 'nodal_skin_eruptions', 'continuous_sneezing',\n",
    "    'shivering', 'chills', 'joint_pain', 'stomach_pain', 'acidity',\n",
    "    'ulcers_on_tongue', 'vomiting', 'burning_micturition', 'fatigue',\n",
    "    'high_fever', 'cough', 'breathlessness', 'sweating', 'dehydration',\n",
    "    'headache', 'sunken_eyes', 'loss_of_appetite', 'nausea',\n",
    "    'abdominal_pain', 'diarrhoea', 'mild_fever', 'blurred_and_distorted_vision',\n",
    "    'phlegm', 'throat_irritation', 'redness_of_eyes', 'runny_nose', \n",
    "    'chest_pain', 'weakness_in_limbs', 'fast_heart_rate', 'dizziness', \n",
    "    'irritability', 'muscle_pain', 'red_spots_over_body', 'belly_pain', \n",
    "    'watering_from_eyes'\n",
    "]"
   ]
  },
  {
   "cell_type": "code",
   "execution_count": 35,
   "id": "8024850f-220f-42c1-a59a-ec2baec9c762",
   "metadata": {},
   "outputs": [
    {
     "name": "stdout",
     "output_type": "stream",
     "text": [
      "   itching  skin_rash  nodal_skin_eruptions  continuous_sneezing  shivering  \\\n",
      "0        1          1                     1                    0          0   \n",
      "1        0          1                     1                    0          0   \n",
      "2        1          0                     1                    0          0   \n",
      "3        1          1                     0                    0          0   \n",
      "4        1          1                     1                    0          0   \n",
      "\n",
      "   chills  joint_pain  stomach_pain  acidity  ulcers_on_tongue  ...  \\\n",
      "0       0           0             0        0                 0  ...   \n",
      "1       0           0             0        0                 0  ...   \n",
      "2       0           0             0        0                 0  ...   \n",
      "3       0           0             0        0                 0  ...   \n",
      "4       0           0             0        0                 0  ...   \n",
      "\n",
      "   chest_pain  weakness_in_limbs  fast_heart_rate  dizziness  irritability  \\\n",
      "0           0                  0                0          0             0   \n",
      "1           0                  0                0          0             0   \n",
      "2           0                  0                0          0             0   \n",
      "3           0                  0                0          0             0   \n",
      "4           0                  0                0          0             0   \n",
      "\n",
      "   muscle_pain  red_spots_over_body  belly_pain  watering_from_eyes  \\\n",
      "0            0                    0           0                   0   \n",
      "1            0                    0           0                   0   \n",
      "2            0                    0           0                   0   \n",
      "3            0                    0           0                   0   \n",
      "4            0                    0           0                   0   \n",
      "\n",
      "          prognosis  \n",
      "0  Fungal infection  \n",
      "1  Fungal infection  \n",
      "2  Fungal infection  \n",
      "3  Fungal infection  \n",
      "4  Fungal infection  \n",
      "\n",
      "[5 rows x 40 columns]\n"
     ]
    }
   ],
   "source": [
    "filtered_data = data[pediatric_attributes + ['prognosis']]\n",
    "\n",
    "# Check the filtered data\n",
    "print(filtered_data.head())"
   ]
  },
  {
   "cell_type": "markdown",
   "id": "83d1a5b7-0af0-44d2-82da-01af095215e2",
   "metadata": {},
   "source": [
    "# MODEL TRAINING"
   ]
  },
  {
   "cell_type": "code",
   "execution_count": 17,
   "id": "18623484-78e2-4443-8abe-38e7b3a95cb0",
   "metadata": {},
   "outputs": [
    {
     "name": "stdout",
     "output_type": "stream",
     "text": [
      "Requirement already satisfied: numpy in c:\\users\\qquad\\anaconda3\\envs\\news_classifivcation_ml\\lib\\site-packages (1.26.4)\n",
      "Requirement already satisfied: pandas in c:\\users\\qquad\\anaconda3\\envs\\news_classifivcation_ml\\lib\\site-packages (2.2.3)\n",
      "Requirement already satisfied: lightgbm in c:\\users\\qquad\\anaconda3\\envs\\news_classifivcation_ml\\lib\\site-packages (4.5.0)\n",
      "Requirement already satisfied: scikit-learn in c:\\users\\qquad\\anaconda3\\envs\\news_classifivcation_ml\\lib\\site-packages (1.5.2)\n",
      "Requirement already satisfied: joblib in c:\\users\\qquad\\anaconda3\\envs\\news_classifivcation_ml\\lib\\site-packages (1.4.2)\n",
      "Requirement already satisfied: python-dateutil>=2.8.2 in c:\\users\\qquad\\anaconda3\\envs\\news_classifivcation_ml\\lib\\site-packages (from pandas) (2.9.0.post0)\n",
      "Requirement already satisfied: pytz>=2020.1 in c:\\users\\qquad\\anaconda3\\envs\\news_classifivcation_ml\\lib\\site-packages (from pandas) (2024.1)\n",
      "Requirement already satisfied: tzdata>=2022.7 in c:\\users\\qquad\\anaconda3\\envs\\news_classifivcation_ml\\lib\\site-packages (from pandas) (2024.1)\n",
      "Requirement already satisfied: scipy in c:\\users\\qquad\\anaconda3\\envs\\news_classifivcation_ml\\lib\\site-packages (from lightgbm) (1.14.1)\n",
      "Requirement already satisfied: threadpoolctl>=3.1.0 in c:\\users\\qquad\\anaconda3\\envs\\news_classifivcation_ml\\lib\\site-packages (from scikit-learn) (3.5.0)\n",
      "Requirement already satisfied: six>=1.5 in c:\\users\\qquad\\anaconda3\\envs\\news_classifivcation_ml\\lib\\site-packages (from python-dateutil>=2.8.2->pandas) (1.16.0)\n"
     ]
    }
   ],
   "source": [
    "!pip install numpy pandas lightgbm scikit-learn joblib"
   ]
  },
  {
   "cell_type": "code",
   "execution_count": 33,
   "id": "4e68f2dd-f12b-43b7-9ff5-3c6bc4319732",
   "metadata": {},
   "outputs": [
    {
     "name": "stdout",
     "output_type": "stream",
     "text": [
      "Model Accuracy: 0.9411\n"
     ]
    }
   ],
   "source": [
    "import lightgbm as lgb\n",
    "from sklearn.model_selection import train_test_split\n",
    "from sklearn.metrics import accuracy_score\n",
    "\n",
    "# Split the data\n",
    "X = filtered_data[pediatric_attributes]\n",
    "y = filtered_data['prognosis']\n",
    "X_train, X_test, y_train, y_test = train_test_split(X, y, test_size=0.2, random_state=42)\n",
    "\n",
    "# Train the LightGBM model\n",
    "model = lgb.LGBMClassifier(n_estimators=1000, learning_rate=0.05)\n",
    "model.fit(X_train, y_train)\n",
    "\n",
    "# Predictions and accuracy\n",
    "y_pred = model.predict(X_test)\n",
    "accuracy = accuracy_score(y_test, y_pred)\n",
    "print(f\"Model Accuracy: {accuracy:.4f}\")\n"
   ]
  },
  {
   "cell_type": "markdown",
   "id": "db57fc6f-4505-48bb-b1b9-7d7e0d0f3a5b",
   "metadata": {},
   "source": [
    "### SAVE THE MODEL"
   ]
  },
  {
   "cell_type": "code",
   "execution_count": 34,
   "id": "336ce010-0166-4ba1-aad4-50eb3bcbaa4c",
   "metadata": {},
   "outputs": [
    {
     "data": {
      "text/plain": [
       "['symptom_predictor.pkl']"
      ]
     },
     "execution_count": 34,
     "metadata": {},
     "output_type": "execute_result"
    }
   ],
   "source": [
    "#import joblib\n",
    "#joblib.dump(model, 'symptom_predictor.pkl')"
   ]
  }
 ],
 "metadata": {
  "kernelspec": {
   "display_name": "Python 3 (ipykernel)",
   "language": "python",
   "name": "python3"
  },
  "language_info": {
   "codemirror_mode": {
    "name": "ipython",
    "version": 3
   },
   "file_extension": ".py",
   "mimetype": "text/x-python",
   "name": "python",
   "nbconvert_exporter": "python",
   "pygments_lexer": "ipython3",
   "version": "3.10.14"
  }
 },
 "nbformat": 4,
 "nbformat_minor": 5
}
